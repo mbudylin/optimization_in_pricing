{
 "cells": [
  {
   "cell_type": "code",
   "execution_count": 2,
   "id": "fe6da4eb",
   "metadata": {
    "tags": []
   },
   "outputs": [],
   "source": [
    "%load_ext autoreload\n",
    "%autoreload 2\n"
   ]
  },
  {
   "cell_type": "code",
   "execution_count": 3,
   "id": "1878dc6a",
   "metadata": {
    "tags": []
   },
   "outputs": [],
   "source": [
    "import matplotlib.pylab as plt\n",
    "import pandas as pd\n",
    "import numpy as np\n",
    "# import dataframe_image as dfi"
   ]
  },
  {
   "cell_type": "code",
   "execution_count": 4,
   "id": "b9dd044a",
   "metadata": {},
   "outputs": [],
   "source": [
    "import os\n",
    "import sys\n",
    "os.environ['PATH'] = sys.prefix + '/bin/' + ':' + os.environ['PATH']"
   ]
  },
  {
   "cell_type": "markdown",
   "id": "2b0ebb59",
   "metadata": {},
   "source": [
    "### Примеры входных данных"
   ]
  },
  {
   "cell_type": "code",
   "execution_count": 5,
   "id": "da93dfe0",
   "metadata": {
    "tags": []
   },
   "outputs": [],
   "source": [
    "# пример кода для запуска генератора данных\n",
    "from data_generator.data_generator import generate_data\n",
    "\n",
    "N = 5\n",
    "bounds_params = {\n",
    "    'main_bounds': {\n",
    "        'lower': 0.9, 'upper': 1.1\n",
    "    },\n",
    "    'market_bounds': {\n",
    "        'lower': 0.85, 'upper': 1.15\n",
    "    }\n",
    "}\n",
    "grid_size = 21\n",
    "seed = 19\n",
    "data = generate_data(N, bounds_params, grid_size, seed)"
   ]
  },
  {
   "cell_type": "code",
   "execution_count": 6,
   "id": "dbdc08d5",
   "metadata": {
    "tags": []
   },
   "outputs": [
    {
     "data": {
      "text/html": [
       "<div>\n",
       "<style scoped>\n",
       "    .dataframe tbody tr th:only-of-type {\n",
       "        vertical-align: middle;\n",
       "    }\n",
       "\n",
       "    .dataframe tbody tr th {\n",
       "        vertical-align: top;\n",
       "    }\n",
       "\n",
       "    .dataframe thead th {\n",
       "        text-align: right;\n",
       "    }\n",
       "</style>\n",
       "<table border=\"1\" class=\"dataframe\">\n",
       "  <thead>\n",
       "    <tr style=\"text-align: right;\">\n",
       "      <th></th>\n",
       "      <th>plu_line_idx</th>\n",
       "      <th>P</th>\n",
       "      <th>Q</th>\n",
       "      <th>E</th>\n",
       "      <th>PC</th>\n",
       "      <th>C</th>\n",
       "      <th>plu_idx</th>\n",
       "      <th>x_lower</th>\n",
       "      <th>x_upper</th>\n",
       "    </tr>\n",
       "  </thead>\n",
       "  <tbody>\n",
       "    <tr>\n",
       "      <th>0</th>\n",
       "      <td>0</td>\n",
       "      <td>141.99</td>\n",
       "      <td>0.478022</td>\n",
       "      <td>-2.455034</td>\n",
       "      <td>138.99</td>\n",
       "      <td>104.11</td>\n",
       "      <td>0</td>\n",
       "      <td>0.900000</td>\n",
       "      <td>1.100000</td>\n",
       "    </tr>\n",
       "    <tr>\n",
       "      <th>1</th>\n",
       "      <td>1</td>\n",
       "      <td>115.99</td>\n",
       "      <td>3.359042</td>\n",
       "      <td>-0.665581</td>\n",
       "      <td>112.99</td>\n",
       "      <td>87.67</td>\n",
       "      <td>1</td>\n",
       "      <td>0.900000</td>\n",
       "      <td>1.100000</td>\n",
       "    </tr>\n",
       "    <tr>\n",
       "      <th>2</th>\n",
       "      <td>1</td>\n",
       "      <td>115.99</td>\n",
       "      <td>3.359042</td>\n",
       "      <td>-0.366413</td>\n",
       "      <td>112.99</td>\n",
       "      <td>87.67</td>\n",
       "      <td>2</td>\n",
       "      <td>0.900000</td>\n",
       "      <td>1.100000</td>\n",
       "    </tr>\n",
       "    <tr>\n",
       "      <th>3</th>\n",
       "      <td>2</td>\n",
       "      <td>99.99</td>\n",
       "      <td>0.781950</td>\n",
       "      <td>-1.431336</td>\n",
       "      <td>91.99</td>\n",
       "      <td>73.00</td>\n",
       "      <td>3</td>\n",
       "      <td>0.900000</td>\n",
       "      <td>1.057991</td>\n",
       "    </tr>\n",
       "    <tr>\n",
       "      <th>4</th>\n",
       "      <td>3</td>\n",
       "      <td>51.99</td>\n",
       "      <td>3.604018</td>\n",
       "      <td>-0.841617</td>\n",
       "      <td>50.99</td>\n",
       "      <td>39.53</td>\n",
       "      <td>4</td>\n",
       "      <td>0.900000</td>\n",
       "      <td>1.100000</td>\n",
       "    </tr>\n",
       "    <tr>\n",
       "      <th>5</th>\n",
       "      <td>4</td>\n",
       "      <td>89.99</td>\n",
       "      <td>3.906002</td>\n",
       "      <td>-0.432880</td>\n",
       "      <td>97.99</td>\n",
       "      <td>120.56</td>\n",
       "      <td>5</td>\n",
       "      <td>0.925564</td>\n",
       "      <td>1.100000</td>\n",
       "    </tr>\n",
       "  </tbody>\n",
       "</table>\n",
       "</div>"
      ],
      "text/plain": [
       "   plu_line_idx       P         Q         E      PC       C  plu_idx  \\\n",
       "0             0  141.99  0.478022 -2.455034  138.99  104.11        0   \n",
       "1             1  115.99  3.359042 -0.665581  112.99   87.67        1   \n",
       "2             1  115.99  3.359042 -0.366413  112.99   87.67        2   \n",
       "3             2   99.99  0.781950 -1.431336   91.99   73.00        3   \n",
       "4             3   51.99  3.604018 -0.841617   50.99   39.53        4   \n",
       "5             4   89.99  3.906002 -0.432880   97.99  120.56        5   \n",
       "\n",
       "    x_lower   x_upper  \n",
       "0  0.900000  1.100000  \n",
       "1  0.900000  1.100000  \n",
       "2  0.900000  1.100000  \n",
       "3  0.900000  1.057991  \n",
       "4  0.900000  1.100000  \n",
       "5  0.925564  1.100000  "
      ]
     },
     "execution_count": 6,
     "metadata": {},
     "output_type": "execute_result"
    }
   ],
   "source": [
    "# Пример данных для NLP постановки\n",
    "# plu_line - код продуктовой линейки\n",
    "# plu - код товара\n",
    "# plu_idx - индекс товара\n",
    "# P - текущая цена\n",
    "# Q - текущие продажи в штуках\n",
    "# E - эластичность\n",
    "# PC - цена конкурента/рыночная цена\n",
    "# C - себестоимость товара\n",
    "# x_lower - нижняя граница x для диапазона поиска цены\n",
    "# x_upper - верхняя граница x для диапазона поиска цены\n",
    "# x_init - начальное значение x для старта оптимизатора\n",
    "# dfi.export(data['data_nlp'], './images/data_nlp_sample.png')\n",
    "data['data_nlp']"
   ]
  },
  {
   "cell_type": "code",
   "execution_count": 7,
   "id": "922b0e10",
   "metadata": {
    "tags": []
   },
   "outputs": [
    {
     "data": {
      "text/html": [
       "<div>\n",
       "<style scoped>\n",
       "    .dataframe tbody tr th:only-of-type {\n",
       "        vertical-align: middle;\n",
       "    }\n",
       "\n",
       "    .dataframe tbody tr th {\n",
       "        vertical-align: top;\n",
       "    }\n",
       "\n",
       "    .dataframe thead th {\n",
       "        text-align: right;\n",
       "    }\n",
       "</style>\n",
       "<table border=\"1\" class=\"dataframe\">\n",
       "  <thead>\n",
       "    <tr style=\"text-align: right;\">\n",
       "      <th></th>\n",
       "      <th>plu_line_idx</th>\n",
       "      <th>P</th>\n",
       "      <th>PC</th>\n",
       "      <th>C</th>\n",
       "      <th>Ps</th>\n",
       "      <th>Qs</th>\n",
       "      <th>xs</th>\n",
       "      <th>grid_size</th>\n",
       "      <th>P_idx</th>\n",
       "      <th>n_plu</th>\n",
       "    </tr>\n",
       "  </thead>\n",
       "  <tbody>\n",
       "    <tr>\n",
       "      <th>0</th>\n",
       "      <td>0</td>\n",
       "      <td>141.99</td>\n",
       "      <td>138.99</td>\n",
       "      <td>104.11</td>\n",
       "      <td>[127.99, 128.99, 130.99, 131.99, 132.99, 134.9...</td>\n",
       "      <td>[0.6089394539338445, 0.5985012724198178, 0.578...</td>\n",
       "      <td>[0.9014015071483906, 0.9084442566377914, 0.922...</td>\n",
       "      <td>21</td>\n",
       "      <td>10</td>\n",
       "      <td>1</td>\n",
       "    </tr>\n",
       "    <tr>\n",
       "      <th>1</th>\n",
       "      <td>1</td>\n",
       "      <td>115.99</td>\n",
       "      <td>112.99</td>\n",
       "      <td>87.67</td>\n",
       "      <td>[103.99, 105.99, 106.99, 107.99, 108.99, 109.9...</td>\n",
       "      <td>[7.08731316001623, 7.0242781667422545, 6.99298...</td>\n",
       "      <td>[0.8965428054142598, 0.9137856711785499, 0.922...</td>\n",
       "      <td>21</td>\n",
       "      <td>10</td>\n",
       "      <td>2</td>\n",
       "    </tr>\n",
       "    <tr>\n",
       "      <th>2</th>\n",
       "      <td>2</td>\n",
       "      <td>99.99</td>\n",
       "      <td>91.99</td>\n",
       "      <td>73.00</td>\n",
       "      <td>[89.99, 90.99, 91.99, 92.99, 93.99, 94.99, 95....</td>\n",
       "      <td>[0.9022928650366684, 0.889468741538329, 0.8768...</td>\n",
       "      <td>[0.8999899989999, 0.90999099909991, 0.91999199...</td>\n",
       "      <td>17</td>\n",
       "      <td>10</td>\n",
       "      <td>1</td>\n",
       "    </tr>\n",
       "    <tr>\n",
       "      <th>3</th>\n",
       "      <td>3</td>\n",
       "      <td>51.99</td>\n",
       "      <td>50.99</td>\n",
       "      <td>39.53</td>\n",
       "      <td>[46.99, 47.99, 48.99, 49.99, 50.99, 51.99, 52....</td>\n",
       "      <td>[3.9078585400206394, 3.8451071816875837, 3.783...</td>\n",
       "      <td>[0.9038276591652241, 0.9230621273321793, 0.942...</td>\n",
       "      <td>11</td>\n",
       "      <td>5</td>\n",
       "      <td>1</td>\n",
       "    </tr>\n",
       "    <tr>\n",
       "      <th>4</th>\n",
       "      <td>4</td>\n",
       "      <td>89.99</td>\n",
       "      <td>97.99</td>\n",
       "      <td>120.56</td>\n",
       "      <td>[82.99, 83.99, 84.99, 85.99, 86.99, 87.99, 88....</td>\n",
       "      <td>[4.039764869374558, 4.020379024402288, 4.00108...</td>\n",
       "      <td>[0.9222135792865874, 0.9333259251027892, 0.944...</td>\n",
       "      <td>17</td>\n",
       "      <td>7</td>\n",
       "      <td>1</td>\n",
       "    </tr>\n",
       "  </tbody>\n",
       "</table>\n",
       "</div>"
      ],
      "text/plain": [
       "   plu_line_idx       P      PC       C  \\\n",
       "0             0  141.99  138.99  104.11   \n",
       "1             1  115.99  112.99   87.67   \n",
       "2             2   99.99   91.99   73.00   \n",
       "3             3   51.99   50.99   39.53   \n",
       "4             4   89.99   97.99  120.56   \n",
       "\n",
       "                                                  Ps  \\\n",
       "0  [127.99, 128.99, 130.99, 131.99, 132.99, 134.9...   \n",
       "1  [103.99, 105.99, 106.99, 107.99, 108.99, 109.9...   \n",
       "2  [89.99, 90.99, 91.99, 92.99, 93.99, 94.99, 95....   \n",
       "3  [46.99, 47.99, 48.99, 49.99, 50.99, 51.99, 52....   \n",
       "4  [82.99, 83.99, 84.99, 85.99, 86.99, 87.99, 88....   \n",
       "\n",
       "                                                  Qs  \\\n",
       "0  [0.6089394539338445, 0.5985012724198178, 0.578...   \n",
       "1  [7.08731316001623, 7.0242781667422545, 6.99298...   \n",
       "2  [0.9022928650366684, 0.889468741538329, 0.8768...   \n",
       "3  [3.9078585400206394, 3.8451071816875837, 3.783...   \n",
       "4  [4.039764869374558, 4.020379024402288, 4.00108...   \n",
       "\n",
       "                                                  xs  grid_size  P_idx  n_plu  \n",
       "0  [0.9014015071483906, 0.9084442566377914, 0.922...         21     10      1  \n",
       "1  [0.8965428054142598, 0.9137856711785499, 0.922...         21     10      2  \n",
       "2  [0.8999899989999, 0.90999099909991, 0.91999199...         17     10      1  \n",
       "3  [0.9038276591652241, 0.9230621273321793, 0.942...         11      5      1  \n",
       "4  [0.9222135792865874, 0.9333259251027892, 0.944...         17      7      1  "
      ]
     },
     "execution_count": 7,
     "metadata": {},
     "output_type": "execute_result"
    }
   ],
   "source": [
    "# Пример данных для MILP постановки\n",
    "# plu_line - код продуктовой линейки\n",
    "# P - текущая цена\n",
    "# PC - цена конкурента/рыночная цена\n",
    "# C - себестоимость товара\n",
    "# Ps - сетка цен для поиска\n",
    "# Qs - сетка продаж для кажой цены из Ps\n",
    "# xs - сетка индексов\n",
    "# grid_size - размер сетки\n",
    "# P_idx - индекс текущей цены в сетке. Если значение -1, то текщая цена не попала в сетку\n",
    "# dfi.export(data['data_milp'], './images/data_milp_sample.png')\n",
    "data['data_milp']"
   ]
  },
  {
   "cell_type": "markdown",
   "id": "d2042fef",
   "metadata": {},
   "source": [
    "### Пример запуска"
   ]
  },
  {
   "cell_type": "code",
   "execution_count": 8,
   "id": "5417bf42",
   "metadata": {},
   "outputs": [],
   "source": [
    "from optimizers.optimization import pricing_optimization\n",
    "from optimizers.optimizers import CvxpyLpOptimizationModel, ScipyLpOptimizationModel\n"
   ]
  },
  {
   "cell_type": "code",
   "execution_count": 21,
   "id": "92241d6e-fd3b-4a15-98f8-cbdad7d3bd9c",
   "metadata": {},
   "outputs": [],
   "source": [
    "bounds_params = {\n",
    "    'main_bounds': {\n",
    "        'lower': 0.9, 'upper': 1.1\n",
    "    },\n",
    "    'market_bounds': {\n",
    "        'lower': 0.85, 'upper': 1.15\n",
    "    }\n",
    "}\n",
    "grid_size = 21\n",
    "\n",
    "data = generate_data(2000, bounds_params, 21, 6)\n",
    "M_cur = sum(data['data_nlp']['Q'] * (data['data_nlp']['P'] - data['data_nlp']['C']))\n",
    "R_cur = sum(data['data_nlp']['Q'] * data['data_nlp']['P'])\n",
    "\n",
    "opt_params = {\n",
    "    'alpha': 0.0,\n",
    "    'con_mrg': M_cur,\n",
    "}\n",
    "\n",
    "opt_params['alpha'] = 0.0\n"
   ]
  },
  {
   "cell_type": "code",
   "execution_count": 22,
   "id": "6ee31bcb",
   "metadata": {},
   "outputs": [
    {
     "name": "stdout",
     "output_type": "stream",
     "text": [
      "Добавлено ограничение con_mrg с параметрами 88177.44357022514\n"
     ]
    },
    {
     "data": {
      "text/plain": [
       "(0.723520040512085,\n",
       " 482308.0432108018,\n",
       " 445506.3366907634,\n",
       " 88177.55252214789,\n",
       " 88177.44357022514)"
      ]
     },
     "execution_count": 22,
     "metadata": {},
     "output_type": "execute_result"
    }
   ],
   "source": [
    "res1 = pricing_optimization(data, CvxpyLpOptimizationModel, opt_params, 'GLPK_MI')\n",
    "R_opt = sum(res1['data']['P_opt'] * res1['data']['Q_opt'])\n",
    "M_opt = sum((res1['data']['P_opt'] - res1['data']['C']) * res1['data']['Q_opt'])\n",
    "res1['t'], R_opt, R_cur, M_opt, M_cur"
   ]
  },
  {
   "cell_type": "code",
   "execution_count": 28,
   "id": "b99871e6",
   "metadata": {},
   "outputs": [
    {
     "name": "stdout",
     "output_type": "stream",
     "text": [
      "Добавлено ограничение con_mrg с параметрами 88177.44357022514\n",
      "(1, 42000) (2000, 42000)\n"
     ]
    },
    {
     "data": {
      "text/plain": [
       "(0.8742785453796387,\n",
       " 482290.8937564694,\n",
       " 445506.3366907634,\n",
       " 88177.97661508164,\n",
       " 88177.44357022514)"
      ]
     },
     "execution_count": 28,
     "metadata": {},
     "output_type": "execute_result"
    }
   ],
   "source": [
    "res2 = pricing_optimization(data, ScipyLpOptimizationModel, opt_params, 'highs')\n",
    "R_opt = sum(res2['data']['P_opt'] * res2['data']['Q_opt'])\n",
    "M_opt = sum((res2['data']['P_opt'] - res2['data']['C']) * res2['data']['Q_opt'])\n",
    "res2['t'], R_opt, R_cur, M_opt, M_cur"
   ]
  },
  {
   "cell_type": "code",
   "execution_count": null,
   "id": "5b07dfc9",
   "metadata": {},
   "outputs": [],
   "source": []
  },
  {
   "cell_type": "markdown",
   "id": "45b00b22",
   "metadata": {},
   "source": [
    "### Пример Scipy.HiGHS"
   ]
  },
  {
   "cell_type": "code",
   "execution_count": 267,
   "id": "5fc9b58d",
   "metadata": {},
   "outputs": [],
   "source": [
    "from optimizers.optimizers import OptimizationModel, ScipyLpOptimizationModel"
   ]
  },
  {
   "cell_type": "code",
   "execution_count": 268,
   "id": "be5f72dd",
   "metadata": {},
   "outputs": [],
   "source": [
    "scipy_lp_model = ScipyLpOptimizationModel(data)"
   ]
  },
  {
   "cell_type": "code",
   "execution_count": 272,
   "id": "e1f3f42f",
   "metadata": {},
   "outputs": [],
   "source": [
    "\n",
    "scipy_lp_model.init_variables()\n",
    "scipy_lp_model.init_objective()\n",
    "scipy_lp_model.add_con_mrg(M_cur)\n",
    "res = scipy_lp_model.solve()"
   ]
  },
  {
   "cell_type": "code",
   "execution_count": null,
   "id": "1609d3a4",
   "metadata": {},
   "outputs": [],
   "source": []
  },
  {
   "cell_type": "code",
   "execution_count": null,
   "id": "a5764f46",
   "metadata": {},
   "outputs": [],
   "source": []
  },
  {
   "cell_type": "code",
   "execution_count": null,
   "id": "fcba533b",
   "metadata": {},
   "outputs": [],
   "source": []
  },
  {
   "cell_type": "code",
   "execution_count": null,
   "id": "e90a3e4a",
   "metadata": {},
   "outputs": [],
   "source": []
  },
  {
   "cell_type": "markdown",
   "id": "f0b57b93",
   "metadata": {},
   "source": [
    "### Отчет по времени работы и количеству \"успешно\" решенных задач"
   ]
  },
  {
   "cell_type": "code",
   "execution_count": 8,
   "id": "ecf5dee7",
   "metadata": {
    "tags": []
   },
   "outputs": [],
   "source": [
    "from runner import optimizers_collect_stat"
   ]
  },
  {
   "cell_type": "code",
   "execution_count": 9,
   "id": "e465b8c0",
   "metadata": {
    "tags": []
   },
   "outputs": [],
   "source": [
    "stats_df = optimizers_collect_stat('./data/stat/')"
   ]
  },
  {
   "cell_type": "code",
   "execution_count": 10,
   "id": "c9c1cc6b-01f3-40c9-a319-9203936c1613",
   "metadata": {
    "tags": []
   },
   "outputs": [
    {
     "data": {
      "image/png": "[encoded data removed]",
      "text/plain": [
       "<Figure size 1440x1200 with 2 Axes>"
      ]
     },
     "metadata": {},
     "output_type": "display_data"
    }
   ],
   "source": [
    "stats_df['success'] = stats_df['status'] == 'ok'\n",
    "stats_df['opt_type'] = np.where(\n",
    "    stats_df['solver'].isin(['scipy.slsqp', 'scipy.trust-constr', 'scipy.cobyla' ,'pyomo.ipopt']), 'nlp', 'lp'\n",
    ")\n",
    "time_rep_df = stats_df.groupby(['opt_type', 'solver', 'N'])['t'].describe().reset_index()\n",
    "\n",
    "fig, axes = plt.subplots(2, 1, figsize=(12, 10), sharey=False, dpi=120)\n",
    "for (opt_type, solver), df in time_rep_df.groupby(['opt_type', 'solver']):\n",
    "    ax_id = 0 if opt_type == 'nlp' else 1\n",
    "    axes[ax_id].plot(df['N'], df['50%'], lw=2, label=solver)\n",
    "    axes[ax_id].fill_between(df['N'], df['25%'], df['75%'], alpha=0.2)\n",
    "axes[0].set_title('Сравнение времени решения NLP задачи')\n",
    "axes[1].set_title('Сравнение времени решения MILP задачи')\n",
    "# [ax.set_xscale('log') for ax in axes]\n",
    "[ax.set_yscale('log') for ax in axes]\n",
    "[ax.legend(loc='upper right') for ax in axes]\n",
    "[ax.grid() for ax in axes]\n",
    "fig.text(0.08, 0.5, 'Время решения задачи, (с)', va='center', rotation='vertical', fontdict={'size': 12})\n",
    "plt.xlabel('Размерность задачи')\n",
    "plt.savefig('./images/time_solve_compare.png')\n",
    "plt.show()\n"
   ]
  },
  {
   "cell_type": "code",
   "execution_count": 10,
   "id": "07258b58",
   "metadata": {
    "tags": []
   },
   "outputs": [
    {
     "data": {
      "text/html": [
       "<div>\n",
       "<style scoped>\n",
       "    .dataframe tbody tr th:only-of-type {\n",
       "        vertical-align: middle;\n",
       "    }\n",
       "\n",
       "    .dataframe tbody tr th {\n",
       "        vertical-align: top;\n",
       "    }\n",
       "\n",
       "    .dataframe thead th {\n",
       "        text-align: right;\n",
       "    }\n",
       "</style>\n",
       "<table border=\"1\" class=\"dataframe\">\n",
       "  <thead>\n",
       "    <tr style=\"text-align: right;\">\n",
       "      <th></th>\n",
       "      <th>solver</th>\n",
       "      <th>success_rate</th>\n",
       "    </tr>\n",
       "  </thead>\n",
       "  <tbody>\n",
       "    <tr>\n",
       "      <th>0</th>\n",
       "      <td>cvxpy.cbc</td>\n",
       "      <td>0.990521</td>\n",
       "    </tr>\n",
       "    <tr>\n",
       "      <th>1</th>\n",
       "      <td>cvxpy.ecos</td>\n",
       "      <td>0.700000</td>\n",
       "    </tr>\n",
       "    <tr>\n",
       "      <th>2</th>\n",
       "      <td>cvxpy.glpk</td>\n",
       "      <td>0.990521</td>\n",
       "    </tr>\n",
       "    <tr>\n",
       "      <th>3</th>\n",
       "      <td>pyomo.cbc</td>\n",
       "      <td>1.000000</td>\n",
       "    </tr>\n",
       "    <tr>\n",
       "      <th>4</th>\n",
       "      <td>pyomo.glpk</td>\n",
       "      <td>1.000000</td>\n",
       "    </tr>\n",
       "    <tr>\n",
       "      <th>5</th>\n",
       "      <td>pyomo.ipopt</td>\n",
       "      <td>1.000000</td>\n",
       "    </tr>\n",
       "    <tr>\n",
       "      <th>6</th>\n",
       "      <td>scipy.cobyla</td>\n",
       "      <td>0.513333</td>\n",
       "    </tr>\n",
       "    <tr>\n",
       "      <th>7</th>\n",
       "      <td>scipy.slsqp</td>\n",
       "      <td>0.955556</td>\n",
       "    </tr>\n",
       "    <tr>\n",
       "      <th>8</th>\n",
       "      <td>scipy.trust-constr</td>\n",
       "      <td>0.853333</td>\n",
       "    </tr>\n",
       "  </tbody>\n",
       "</table>\n",
       "</div>"
      ],
      "text/plain": [
       "               solver  success_rate\n",
       "0           cvxpy.cbc      0.990521\n",
       "1          cvxpy.ecos      0.700000\n",
       "2          cvxpy.glpk      0.990521\n",
       "3           pyomo.cbc      1.000000\n",
       "4          pyomo.glpk      1.000000\n",
       "5         pyomo.ipopt      1.000000\n",
       "6        scipy.cobyla      0.513333\n",
       "7         scipy.slsqp      0.955556\n",
       "8  scipy.trust-constr      0.853333"
      ]
     },
     "execution_count": 10,
     "metadata": {},
     "output_type": "execute_result"
    }
   ],
   "source": [
    "success_rate_df =\\\n",
    "    stats_df.groupby(['solver'])['success'].mean().reset_index().rename(columns={'success': 'success_rate'})\n",
    "# dfi.export(success_rate_df, './images/success_rate.png')\n",
    "success_rate_df\n"
   ]
  },
  {
   "cell_type": "markdown",
   "id": "d153c5db-0174-4dfb-b117-0da6648cc3eb",
   "metadata": {},
   "source": [
    "### Пример запуска оптимизации(простой)"
   ]
  },
  {
   "cell_type": "code",
   "execution_count": 67,
   "id": "4ce17493-afa5-4488-a911-cf9a95c967d6",
   "metadata": {
    "tags": []
   },
   "outputs": [
    {
     "name": "stdout",
     "output_type": "stream",
     "text": [
      "dR = +7.06%, dM = +0.0% - Изменение выручки и маржи в NLP задаче\n",
      "dR = +6.98%, dM = +0.0% - Изменение выручки и маржи в MILP задаче\n",
      "dR = +6.98%, dM = -0.01% - Изменение выручки и маржи в NLP задаче после округления\n",
      "Все товары в линейке имеют одинаковые цены: True\n"
     ]
    }
   ],
   "source": [
    "import numpy as np\n",
    "from data_generator.data_generator import generate_data, price_round\n",
    "from optimizers.optimization import pricing_optimization\n",
    "from optimizers.optimizers import (\n",
    "    ScipyNlpOptimizationModel,\n",
    "    PyomoNlpOptimizationModel,\n",
    "    PyomoLpOptimizationModel,\n",
    "    CvxpyLpOptimizationModel,\n",
    ")\n",
    "\n",
    "\n",
    "def calc_metrics(df, tp='cur'):\n",
    "    sfx = ''\n",
    "    if tp == 'cur':\n",
    "        sfx = ''\n",
    "    elif tp == 'opt':\n",
    "        sfx = '_opt'\n",
    "    R_ = sum(df['P' + sfx] * df['Q' + sfx])\n",
    "    M_ = sum((df['P' + sfx] - df['C']) * df['Q' + sfx])\n",
    "    return R_, M_\n",
    "\n",
    "\n",
    "def perc_delta(v_old, v_new, ndigits=2):\n",
    "    p = round(100. * (v_new / v_old - 1.), ndigits)\n",
    "    sign = '+' if p >= 0 else '-'\n",
    "    return sign + str(abs(p)) + '%'\n",
    "\n",
    "\n",
    "bounds_params = {\n",
    "    'main_bounds': {\n",
    "        'lower': 0.9, 'upper': 1.1\n",
    "    },\n",
    "    'market_bounds': {\n",
    "        'lower': 0.85, 'upper': 1.15\n",
    "    }\n",
    "}\n",
    "grid_size = 21\n",
    "#\n",
    "data = generate_data(200, bounds_params, grid_size, 0)\n",
    "# текущая выручка и маржа\n",
    "R_cur, M_cur = calc_metrics(data['data_nlp'], 'cur')\n",
    "# параметры для оптимизации\n",
    "opt_params = {\n",
    "    'alpha': 0.0,\n",
    "    'con_mrg': M_cur,\n",
    "}\n",
    "\n",
    "\n",
    "\"\"\"\n",
    "Тест расчёта на небольших данных\n",
    "\"\"\"\n",
    "\n",
    "res_nlp = pricing_optimization(data, PyomoNlpOptimizationModel, opt_params, 'ipopt')\n",
    "res_milp = pricing_optimization(data, CvxpyLpOptimizationModel, opt_params, 'GLPK_MI')\n",
    "\n",
    "R_opt_nlp, M_opt_nlp = calc_metrics(res_nlp['data'], 'opt')\n",
    "R_opt_milp, M_opt_milp = calc_metrics(res_milp['data'], 'opt')\n",
    "\n",
    "print('dR = {dR}, dM = {dM} - Изменение выручки и маржи в NLP задаче'.format(\n",
    "    dR=perc_delta(R_cur, R_opt_nlp), dM=perc_delta(M_cur, M_opt_nlp)))\n",
    "print('dR = {dR}, dM = {dM} - Изменение выручки и маржи в MILP задаче'.format(\n",
    "    dR=perc_delta(R_cur, R_opt_milp),\n",
    "    dM=perc_delta(M_cur, M_opt_milp)))\n",
    "\n",
    "res_nlp['data']['P_opt'] = price_round(res_nlp['data']['P_opt'])\n",
    "res_nlp['data']['x_opt'] = res_nlp['data']['P_opt'] / res_nlp['data']['P']\n",
    "res_nlp['data']['Q_opt'] = res_nlp['data']['Q'] * np.exp(res_nlp['data']['E'] * (res_nlp['data']['x_opt'] - 1))\n",
    "R_opt_nlp_ar, M_opt_nlp_ar = calc_metrics(res_nlp['data'], 'opt')\n",
    "\n",
    "print('dR = {dR}, dM = {dM} - Изменение выручки и маржи в NLP задаче после округления'.format(\n",
    "    dR=perc_delta(R_cur, R_opt_nlp_ar), dM=perc_delta(M_cur, M_opt_nlp_ar)))\n",
    "\n",
    "ind = res_nlp['data'].groupby(['plu_line_idx'])['x_opt'].nunique().max() == 1\n",
    "print(f'Все товары в линейке имеют одинаковые цены: {ind}')\n"
   ]
  },
  {
   "cell_type": "code",
   "execution_count": null,
   "id": "ee00b43c-9c05-4ded-bc8e-5ec299dd72d0",
   "metadata": {},
   "outputs": [],
   "source": []
  },
  {
   "cell_type": "code",
   "execution_count": null,
   "id": "d2c2db9a-4e96-42b0-9746-28025a7c6fd5",
   "metadata": {},
   "outputs": [],
   "source": []
  },
  {
   "cell_type": "markdown",
   "id": "33fe8470",
   "metadata": {},
   "source": [
    "### Пример запуска оптимизации(сложный)"
   ]
  },
  {
   "cell_type": "code",
   "execution_count": 9,
   "id": "66a1448a",
   "metadata": {
    "tags": []
   },
   "outputs": [],
   "source": [
    "import numpy as np\n",
    "import matplotlib.pyplot as plt\n",
    "from data_generator.data_generator import generate_data\n",
    "from optimizers.optimization import pricing_optimization\n",
    "from optimizers.optimizers import (\n",
    "    ScipyNlpOptimizationModel,\n",
    "    PyomoNlpOptimizationModel,\n",
    "    PyomoLpOptimizationModel,\n",
    "    CvxpyLpOptimizationModel,\n",
    ")"
   ]
  },
  {
   "cell_type": "code",
   "execution_count": 10,
   "id": "58c3aae3",
   "metadata": {
    "tags": []
   },
   "outputs": [
    {
     "ename": "ValueError",
     "evalue": "too many values to unpack (expected 2)",
     "output_type": "error",
     "traceback": [
      "\u001b[0;31m---------------------------------------------------------------------------\u001b[0m",
      "\u001b[0;31mValueError\u001b[0m                                Traceback (most recent call last)",
      "Input \u001b[0;32mIn [10]\u001b[0m, in \u001b[0;36m<cell line: 21>\u001b[0;34m()\u001b[0m\n\u001b[1;32m     15\u001b[0m opt_params \u001b[38;5;241m=\u001b[39m {\n\u001b[1;32m     16\u001b[0m     \u001b[38;5;124m'\u001b[39m\u001b[38;5;124malpha\u001b[39m\u001b[38;5;124m'\u001b[39m: \u001b[38;5;241m0.0\u001b[39m,\n\u001b[1;32m     17\u001b[0m \u001b[38;5;66;03m#     'con_mrg': M_cur,\u001b[39;00m\n\u001b[1;32m     18\u001b[0m }\n\u001b[1;32m     20\u001b[0m opt_params[\u001b[38;5;124m'\u001b[39m\u001b[38;5;124malpha\u001b[39m\u001b[38;5;124m'\u001b[39m] \u001b[38;5;241m=\u001b[39m \u001b[38;5;241m0.0\u001b[39m\n\u001b[0;32m---> 21\u001b[0m res, t \u001b[38;5;241m=\u001b[39m  pricing_optimization(data, CvxpyLpOptimizationModel, opt_params, \u001b[38;5;124m'\u001b[39m\u001b[38;5;124mGLPK_MI\u001b[39m\u001b[38;5;124m'\u001b[39m)\n\u001b[1;32m     22\u001b[0m M_opt_min \u001b[38;5;241m=\u001b[39m \u001b[38;5;28msum\u001b[39m((res[\u001b[38;5;124m'\u001b[39m\u001b[38;5;124mdata\u001b[39m\u001b[38;5;124m'\u001b[39m][\u001b[38;5;124m'\u001b[39m\u001b[38;5;124mP_opt\u001b[39m\u001b[38;5;124m'\u001b[39m] \u001b[38;5;241m-\u001b[39m res[\u001b[38;5;124m'\u001b[39m\u001b[38;5;124mdata\u001b[39m\u001b[38;5;124m'\u001b[39m][\u001b[38;5;124m'\u001b[39m\u001b[38;5;124mC\u001b[39m\u001b[38;5;124m'\u001b[39m]) \u001b[38;5;241m*\u001b[39m res[\u001b[38;5;124m'\u001b[39m\u001b[38;5;124mdata\u001b[39m\u001b[38;5;124m'\u001b[39m][\u001b[38;5;124m'\u001b[39m\u001b[38;5;124mQ_opt\u001b[39m\u001b[38;5;124m'\u001b[39m])\n\u001b[1;32m     24\u001b[0m opt_params[\u001b[38;5;124m'\u001b[39m\u001b[38;5;124malpha\u001b[39m\u001b[38;5;124m'\u001b[39m] \u001b[38;5;241m=\u001b[39m \u001b[38;5;241m1.0\u001b[39m\n",
      "\u001b[0;31mValueError\u001b[0m: too many values to unpack (expected 2)"
     ]
    }
   ],
   "source": [
    "bounds_params = {\n",
    "    'main_bounds': {\n",
    "        'lower': 0.9, 'upper': 1.1\n",
    "    },\n",
    "    'market_bounds': {\n",
    "        'lower': 0.85, 'upper': 1.15\n",
    "    }\n",
    "}\n",
    "grid_size = 21\n",
    "\n",
    "data = generate_data(100, bounds_params, 21, 4)\n",
    "M_cur = sum(data['data_nlp']['Q'] * (data['data_nlp']['P'] - data['data_nlp']['C']))\n",
    "R_cur = sum(data['data_nlp']['Q'] * data['data_nlp']['P'])\n",
    "\n",
    "opt_params = {\n",
    "    'alpha': 0.0,\n",
    "#     'con_mrg': M_cur,\n",
    "}\n",
    "\n",
    "opt_params['alpha'] = 0.0\n",
    "res, t =  pricing_optimization(data, CvxpyLpOptimizationModel, opt_params, 'GLPK_MI')\n",
    "M_opt_min = sum((res['data']['P_opt'] - res['data']['C']) * res['data']['Q_opt'])\n",
    "\n",
    "opt_params['alpha'] = 1.0\n",
    "res, t =  pricing_optimization(data, CvxpyLpOptimizationModel, opt_params, 'GLPK_MI')\n",
    "M_opt_max = sum((res['data']['P_opt'] - res['data']['C']) * res['data']['Q_opt'])\n",
    "\n",
    "N_grid = 30\n",
    "M_grid = np.linspace(M_opt_min, M_opt_max, N_grid)\n",
    "R_norm_res = np.zeros(N_grid)\n",
    "M_norm_res = np.zeros(N_grid)\n",
    "R_res = np.zeros(N_grid)\n",
    "M_res = np.zeros(N_grid)\n",
    "\n",
    "\n",
    "opt_params['alpha'] = 0.0\n",
    "for i, M in enumerate(M_grid):\n",
    "    opt_params['con_mrg'] = M\n",
    "    res, t = pricing_optimization(data, CvxpyLpOptimizationModel, opt_params, 'GLPK_MI')\n",
    "    R_norm_res[i] = sum(res['data']['P_opt']  * res['data']['Q_opt']) / R_cur\n",
    "    M_norm_res[i] = sum((res['data']['P_opt'] - res['data']['C'])  * res['data']['Q_opt']) / M_cur\n",
    "\n",
    "    R_res[i] = sum(res['data']['P_opt']  * res['data']['Q_opt'])\n",
    "    M_res[i] = sum((res['data']['P_opt'] - res['data']['C'])  * res['data']['Q_opt'])\n",
    "    "
   ]
  },
  {
   "cell_type": "code",
   "execution_count": null,
   "id": "c3978de7",
   "metadata": {
    "tags": []
   },
   "outputs": [],
   "source": [
    "plt.figure(figsize=(8, 6), dpi=100)\n",
    "plt.plot(R_res, M_res, label='Кривая оптимальности по Парето')\n",
    "plt.axvline(R_cur, ls='--', c='k', label='текущие уровни')\n",
    "plt.axhline(M_cur, ls='--', c='k')\n",
    "plt.scatter(R_res[0], M_res[0], c='g', label='Оптимум по выручке', zorder=2)\n",
    "plt.scatter(R_res[-1], M_res[-1], c='r', label='Оптимум по марже', zorder=2)\n",
    "plt.xlabel('Выручка')\n",
    "plt.ylabel('Маржа')\n",
    "plt.grid()\n",
    "plt.legend()\n",
    "plt.show()"
   ]
  },
  {
   "cell_type": "code",
   "execution_count": 14,
   "id": "c8824c4b",
   "metadata": {
    "tags": []
   },
   "outputs": [
    {
     "data": {
      "image/png": "[encoded data removed]",
      "text/plain": [
       "<Figure size 800x600 with 1 Axes>"
      ]
     },
     "metadata": {
      "needs_background": "light"
     },
     "output_type": "display_data"
    }
   ],
   "source": [
    "plt.figure(figsize=(8, 6), dpi=100)\n",
    "plt.plot(R_norm_res, M_norm_res, label='Кривая оптимальности по Парето')\n",
    "plt.axvline(1, ls='--', c='k', label='текущие уровни')\n",
    "plt.axhline(1, ls='--', c='k')\n",
    "plt.scatter(R_norm_res[0], M_norm_res[0], c='g', label='Оптимум по выручке', zorder=2)\n",
    "plt.scatter(R_norm_res[-1], M_norm_res[-1], c='r', label='Оптимум по марже', zorder=2)\n",
    "plt.xlabel('Выручка')\n",
    "plt.ylabel('Маржа')\n",
    "plt.grid()\n",
    "plt.legend()\n",
    "plt.show()"
   ]
  },
  {
   "cell_type": "markdown",
   "id": "c2cb3a0b-fca7-4395-bb6e-5a30ae61df81",
   "metadata": {},
   "source": [
    "### Запус MINLP с pyomo"
   ]
  },
  {
   "cell_type": "code",
   "execution_count": 17,
   "id": "f29f7386-3f38-4b38-803e-3bcb83cd5bbb",
   "metadata": {
    "scrolled": true,
    "tags": []
   },
   "outputs": [
    {
     "name": "stdout",
     "output_type": "stream",
     "text": [
      "5 0\n",
      "minlp finished at 0.346\n",
      "--*--*--*--*--*--*--*--*--*--*--*--*--*--*--*--*--*--*--*--*--\n",
      "5 1\n",
      "minlp finished at 0.310\n",
      "--*--*--*--*--*--*--*--*--*--*--*--*--*--*--*--*--*--*--*--*--\n",
      "5 2\n",
      "minlp finished at 0.289\n",
      "--*--*--*--*--*--*--*--*--*--*--*--*--*--*--*--*--*--*--*--*--\n",
      "5 3\n",
      "minlp finished at 0.640\n",
      "--*--*--*--*--*--*--*--*--*--*--*--*--*--*--*--*--*--*--*--*--\n",
      "5 4\n",
      "minlp finished at 0.722\n",
      "--*--*--*--*--*--*--*--*--*--*--*--*--*--*--*--*--*--*--*--*--\n",
      "5 5\n",
      "minlp finished at 0.799\n",
      "--*--*--*--*--*--*--*--*--*--*--*--*--*--*--*--*--*--*--*--*--\n",
      "5 6\n",
      "minlp finished at 0.376\n",
      "--*--*--*--*--*--*--*--*--*--*--*--*--*--*--*--*--*--*--*--*--\n",
      "5 7\n",
      "minlp finished at 2.493\n",
      "--*--*--*--*--*--*--*--*--*--*--*--*--*--*--*--*--*--*--*--*--\n",
      "10 0\n",
      "minlp finished at 1.051\n",
      "--*--*--*--*--*--*--*--*--*--*--*--*--*--*--*--*--*--*--*--*--\n",
      "10 1\n",
      "minlp finished at 2.702\n",
      "--*--*--*--*--*--*--*--*--*--*--*--*--*--*--*--*--*--*--*--*--\n",
      "10 2\n",
      "minlp finished at 3.064\n",
      "--*--*--*--*--*--*--*--*--*--*--*--*--*--*--*--*--*--*--*--*--\n",
      "10 3\n",
      "minlp finished at 0.727\n",
      "--*--*--*--*--*--*--*--*--*--*--*--*--*--*--*--*--*--*--*--*--\n",
      "10 4\n",
      "minlp finished at 1.641\n",
      "--*--*--*--*--*--*--*--*--*--*--*--*--*--*--*--*--*--*--*--*--\n",
      "10 5\n",
      "minlp finished at 0.960\n",
      "--*--*--*--*--*--*--*--*--*--*--*--*--*--*--*--*--*--*--*--*--\n",
      "10 6\n",
      "minlp finished at 1.136\n",
      "--*--*--*--*--*--*--*--*--*--*--*--*--*--*--*--*--*--*--*--*--\n",
      "10 7\n",
      "minlp finished at 1.532\n",
      "--*--*--*--*--*--*--*--*--*--*--*--*--*--*--*--*--*--*--*--*--\n",
      "15 0\n",
      "minlp finished at 2.876\n",
      "--*--*--*--*--*--*--*--*--*--*--*--*--*--*--*--*--*--*--*--*--\n",
      "15 1\n",
      "minlp finished at 1.187\n",
      "--*--*--*--*--*--*--*--*--*--*--*--*--*--*--*--*--*--*--*--*--\n",
      "15 2\n",
      "minlp finished at 1.286\n",
      "--*--*--*--*--*--*--*--*--*--*--*--*--*--*--*--*--*--*--*--*--\n",
      "15 3\n",
      "minlp finished at 2.643\n",
      "--*--*--*--*--*--*--*--*--*--*--*--*--*--*--*--*--*--*--*--*--\n",
      "15 4\n",
      "minlp finished at 7.380\n",
      "--*--*--*--*--*--*--*--*--*--*--*--*--*--*--*--*--*--*--*--*--\n",
      "15 5\n",
      "minlp finished at 1.733\n",
      "--*--*--*--*--*--*--*--*--*--*--*--*--*--*--*--*--*--*--*--*--\n",
      "15 6\n",
      "minlp finished at 4.509\n",
      "--*--*--*--*--*--*--*--*--*--*--*--*--*--*--*--*--*--*--*--*--\n",
      "15 7\n",
      "minlp finished at 2.141\n",
      "--*--*--*--*--*--*--*--*--*--*--*--*--*--*--*--*--*--*--*--*--\n",
      "20 0\n",
      "minlp finished at 4.180\n",
      "--*--*--*--*--*--*--*--*--*--*--*--*--*--*--*--*--*--*--*--*--\n",
      "20 1\n",
      "minlp finished at 6.064\n",
      "--*--*--*--*--*--*--*--*--*--*--*--*--*--*--*--*--*--*--*--*--\n",
      "20 2\n",
      "minlp finished at 5.011\n",
      "--*--*--*--*--*--*--*--*--*--*--*--*--*--*--*--*--*--*--*--*--\n",
      "20 3\n",
      "minlp finished at 2.248\n",
      "--*--*--*--*--*--*--*--*--*--*--*--*--*--*--*--*--*--*--*--*--\n",
      "20 4\n",
      "minlp finished at 4.943\n",
      "--*--*--*--*--*--*--*--*--*--*--*--*--*--*--*--*--*--*--*--*--\n",
      "20 5\n",
      "minlp finished at 8.935\n",
      "--*--*--*--*--*--*--*--*--*--*--*--*--*--*--*--*--*--*--*--*--\n",
      "20 6\n",
      "minlp finished at 5.158\n",
      "--*--*--*--*--*--*--*--*--*--*--*--*--*--*--*--*--*--*--*--*--\n",
      "20 7\n",
      "minlp finished at 6.756\n",
      "--*--*--*--*--*--*--*--*--*--*--*--*--*--*--*--*--*--*--*--*--\n",
      "25 0\n",
      "minlp finished at 14.234\n",
      "--*--*--*--*--*--*--*--*--*--*--*--*--*--*--*--*--*--*--*--*--\n",
      "25 1\n",
      "minlp finished at 7.117\n",
      "--*--*--*--*--*--*--*--*--*--*--*--*--*--*--*--*--*--*--*--*--\n",
      "25 2\n",
      "minlp finished at 3.639\n",
      "--*--*--*--*--*--*--*--*--*--*--*--*--*--*--*--*--*--*--*--*--\n",
      "25 3\n",
      "minlp finished at 10.607\n",
      "--*--*--*--*--*--*--*--*--*--*--*--*--*--*--*--*--*--*--*--*--\n",
      "25 4\n",
      "minlp finished at 11.833\n",
      "--*--*--*--*--*--*--*--*--*--*--*--*--*--*--*--*--*--*--*--*--\n",
      "25 5\n",
      "minlp finished at 23.522\n",
      "--*--*--*--*--*--*--*--*--*--*--*--*--*--*--*--*--*--*--*--*--\n",
      "25 6\n",
      "minlp finished at 11.555\n",
      "--*--*--*--*--*--*--*--*--*--*--*--*--*--*--*--*--*--*--*--*--\n",
      "25 7\n",
      "minlp finished at 12.924\n",
      "--*--*--*--*--*--*--*--*--*--*--*--*--*--*--*--*--*--*--*--*--\n",
      "30 0\n",
      "minlp finished at 14.401\n",
      "--*--*--*--*--*--*--*--*--*--*--*--*--*--*--*--*--*--*--*--*--\n",
      "30 1\n",
      "minlp finished at 15.983\n",
      "--*--*--*--*--*--*--*--*--*--*--*--*--*--*--*--*--*--*--*--*--\n",
      "30 2\n",
      "minlp finished at 12.720\n",
      "--*--*--*--*--*--*--*--*--*--*--*--*--*--*--*--*--*--*--*--*--\n",
      "30 3\n",
      "minlp finished at 7.888\n",
      "--*--*--*--*--*--*--*--*--*--*--*--*--*--*--*--*--*--*--*--*--\n",
      "30 4\n",
      "minlp finished at 9.478\n",
      "--*--*--*--*--*--*--*--*--*--*--*--*--*--*--*--*--*--*--*--*--\n",
      "30 5\n",
      "minlp finished at 6.590\n",
      "--*--*--*--*--*--*--*--*--*--*--*--*--*--*--*--*--*--*--*--*--\n",
      "30 6\n",
      "minlp finished at 29.504\n",
      "--*--*--*--*--*--*--*--*--*--*--*--*--*--*--*--*--*--*--*--*--\n",
      "30 7\n",
      "minlp finished at 11.061\n",
      "--*--*--*--*--*--*--*--*--*--*--*--*--*--*--*--*--*--*--*--*--\n",
      "35 0\n",
      "minlp finished at 11.404\n",
      "--*--*--*--*--*--*--*--*--*--*--*--*--*--*--*--*--*--*--*--*--\n",
      "35 1\n",
      "minlp finished at 36.318\n",
      "--*--*--*--*--*--*--*--*--*--*--*--*--*--*--*--*--*--*--*--*--\n",
      "35 2\n",
      "minlp finished at 222.466\n",
      "--*--*--*--*--*--*--*--*--*--*--*--*--*--*--*--*--*--*--*--*--\n",
      "35 3\n",
      "minlp finished at 24.014\n",
      "--*--*--*--*--*--*--*--*--*--*--*--*--*--*--*--*--*--*--*--*--\n",
      "35 4\n",
      "minlp finished at 37.679\n",
      "--*--*--*--*--*--*--*--*--*--*--*--*--*--*--*--*--*--*--*--*--\n",
      "35 5\n",
      "minlp finished at 20.679\n",
      "--*--*--*--*--*--*--*--*--*--*--*--*--*--*--*--*--*--*--*--*--\n",
      "35 6\n",
      "minlp finished at 76.653\n",
      "--*--*--*--*--*--*--*--*--*--*--*--*--*--*--*--*--*--*--*--*--\n",
      "35 7\n",
      "minlp finished at 71.454\n",
      "--*--*--*--*--*--*--*--*--*--*--*--*--*--*--*--*--*--*--*--*--\n",
      "40 0\n",
      "minlp finished at 169.161\n",
      "--*--*--*--*--*--*--*--*--*--*--*--*--*--*--*--*--*--*--*--*--\n",
      "40 1\n",
      "minlp finished at 19.983\n",
      "--*--*--*--*--*--*--*--*--*--*--*--*--*--*--*--*--*--*--*--*--\n",
      "40 2\n",
      "minlp finished at 30.502\n",
      "--*--*--*--*--*--*--*--*--*--*--*--*--*--*--*--*--*--*--*--*--\n",
      "40 3\n",
      "minlp finished at 157.473\n",
      "--*--*--*--*--*--*--*--*--*--*--*--*--*--*--*--*--*--*--*--*--\n",
      "40 4\n",
      "minlp finished at 63.014\n",
      "--*--*--*--*--*--*--*--*--*--*--*--*--*--*--*--*--*--*--*--*--\n",
      "40 5\n",
      "minlp finished at 376.777\n",
      "--*--*--*--*--*--*--*--*--*--*--*--*--*--*--*--*--*--*--*--*--\n",
      "40 6\n",
      "minlp finished at 411.394\n",
      "--*--*--*--*--*--*--*--*--*--*--*--*--*--*--*--*--*--*--*--*--\n",
      "40 7\n",
      "minlp finished at 129.479\n",
      "--*--*--*--*--*--*--*--*--*--*--*--*--*--*--*--*--*--*--*--*--\n",
      "45 0\n",
      "minlp finished at 350.421\n",
      "--*--*--*--*--*--*--*--*--*--*--*--*--*--*--*--*--*--*--*--*--\n",
      "45 1\n",
      "minlp finished at 120.129\n",
      "--*--*--*--*--*--*--*--*--*--*--*--*--*--*--*--*--*--*--*--*--\n",
      "45 2\n",
      "minlp finished at 57.200\n",
      "--*--*--*--*--*--*--*--*--*--*--*--*--*--*--*--*--*--*--*--*--\n",
      "45 3\n",
      "minlp finished at 56.896\n",
      "--*--*--*--*--*--*--*--*--*--*--*--*--*--*--*--*--*--*--*--*--\n",
      "45 4\n",
      "minlp finished at 75.517\n",
      "--*--*--*--*--*--*--*--*--*--*--*--*--*--*--*--*--*--*--*--*--\n",
      "45 5\n",
      "minlp finished at 33.691\n",
      "--*--*--*--*--*--*--*--*--*--*--*--*--*--*--*--*--*--*--*--*--\n",
      "45 6\n",
      "minlp finished at 600.076\n",
      "--*--*--*--*--*--*--*--*--*--*--*--*--*--*--*--*--*--*--*--*--\n",
      "45 7\n",
      "minlp finished at 163.063\n",
      "--*--*--*--*--*--*--*--*--*--*--*--*--*--*--*--*--*--*--*--*--\n",
      "50 0\n",
      "minlp finished at 139.972\n",
      "--*--*--*--*--*--*--*--*--*--*--*--*--*--*--*--*--*--*--*--*--\n",
      "50 1\n",
      "minlp finished at 92.615\n",
      "--*--*--*--*--*--*--*--*--*--*--*--*--*--*--*--*--*--*--*--*--\n",
      "50 2\n",
      "minlp finished at 197.080\n",
      "--*--*--*--*--*--*--*--*--*--*--*--*--*--*--*--*--*--*--*--*--\n",
      "50 3\n",
      "minlp finished at 866.166\n",
      "--*--*--*--*--*--*--*--*--*--*--*--*--*--*--*--*--*--*--*--*--\n",
      "50 4\n",
      "minlp finished at 773.076\n",
      "--*--*--*--*--*--*--*--*--*--*--*--*--*--*--*--*--*--*--*--*--\n",
      "50 5\n",
      "minlp finished at 342.985\n",
      "--*--*--*--*--*--*--*--*--*--*--*--*--*--*--*--*--*--*--*--*--\n",
      "50 6\n",
      "minlp finished at 75.981\n",
      "--*--*--*--*--*--*--*--*--*--*--*--*--*--*--*--*--*--*--*--*--\n",
      "50 7\n",
      "minlp finished at 58.011\n",
      "--*--*--*--*--*--*--*--*--*--*--*--*--*--*--*--*--*--*--*--*--\n"
     ]
    }
   ],
   "source": [
    "from data_generator.data_generator import generate_data\n",
    "from optimizers.optimization import pricing_optimization\n",
    "from optimizers.optimizers import PyomoNlpOptimizationModel\n",
    "from itertools import product\n",
    "\n",
    "SEED_GRID = list(range(8))\n",
    "N_GRID = list(range(5, 55, 5))\n",
    "GRID = product(N_GRID, SEED_GRID)\n",
    "\n",
    "bounds_params = {\n",
    "    'main_bounds': {\n",
    "        'lower': 0.9, 'upper': 1.1\n",
    "    },\n",
    "    'market_bounds': {\n",
    "        'lower': 0.85, 'upper': 1.15\n",
    "    }\n",
    "}\n",
    "GRID_SIZE = 21\n",
    "GRID = product(N_GRID, SEED_GRID)\n",
    "minlp_stats_df_list = []\n",
    "\n",
    "for N, seed in GRID:\n",
    "    print(N, seed)\n",
    "    data = generate_data(N, bounds_params, GRID_SIZE, seed)\n",
    "    N_plu = len(data['data_nlp'])\n",
    "    # текущая выручка и маржа\n",
    "    R_cur, M_cur = calc_metrics(data['data_nlp'], 'cur')\n",
    "    # параметры для оптимизации\n",
    "    opt_params = {\n",
    "        'alpha': 0.0,\n",
    "        'con_mrg': M_cur,\n",
    "        'con_chg_cnt':  int(0.7 * N_plu)\n",
    "    }\n",
    "    res_minlp, t_minlp = pricing_optimization(data, PyomoNlpOptimizationModel, opt_params, 'bonmin')\n",
    "    minlp_stats_df_list.append(pd.DataFrame({\n",
    "        'N': [N],\n",
    "        'seed': [seed],\n",
    "        't': [t_minlp],\n",
    "        'status': [res_minlp['status']]\n",
    "    }))\n",
    "    \n",
    "    print('minlp finished at %.3f' % t_minlp)\n",
    "    print('--*--*--*--*--*--*--*--*--*--*--*--*--*--*--*--*--*--*--*--*--')\n",
    "minlp_stats_df = pd.concat(minlp_stats_df_list)\n",
    "\n",
    "minlp_stats_df.to_csv('./data/stat_minlp/stat.csv', index=None)"
   ]
  },
  {
   "cell_type": "code",
   "execution_count": 19,
   "id": "8488f166-14c0-467c-aa09-d3f03ec9e66e",
   "metadata": {
    "tags": []
   },
   "outputs": [
    {
     "data": {
      "image/png": "[encoded data removed]",
      "text/plain": [
       "<Figure size 1200x600 with 1 Axes>"
      ]
     },
     "metadata": {},
     "output_type": "display_data"
    }
   ],
   "source": [
    "minlp_stats_df = pd.read_csv('./data/stat_minlp/stat.csv')\n",
    "time_rep_df = minlp_stats_df.groupby(['N'])['t'].describe().reset_index()\n",
    "\n",
    "plt.figure(figsize=(12, 6), dpi=100)\n",
    "plt.plot(time_rep_df['N'], time_rep_df['50%'], lw=4)\n",
    "plt.fill_between(time_rep_df['N'], time_rep_df['25%'], time_rep_df['75%'], alpha=0.2)\n",
    "# x = np.linspace(5, 30å, 100)\n",
    "# y = 2.0e-1 * np.exp(0.225 * x)\n",
    "# plt.plot(x, y)\n",
    "plt.yscale('log')\n",
    "plt.xlabel('Размерность задачи')\n",
    "plt.ylabel('Время решения задачи, (с)')\n",
    "plt.title('Время решения MINLP задачи через pyomo.bonmin')\n",
    "plt.grid()\n",
    "plt.savefig('./images/time_solve_minlp.png')\n",
    "plt.show()"
   ]
  },
  {
   "cell_type": "markdown",
   "id": "b0e30b7d-8099-48a5-980d-008c578c14e4",
   "metadata": {},
   "source": [
    "### Сравнение решений оптимизаторов"
   ]
  },
  {
   "cell_type": "code",
   "execution_count": 41,
   "id": "2d480c76",
   "metadata": {
    "scrolled": true,
    "tags": []
   },
   "outputs": [
    {
     "name": "stdout",
     "output_type": "stream",
     "text": [
      "CPU times: user 309 ms, sys: 2.69 ms, total: 311 ms\n",
      "Wall time: 311 ms\n"
     ]
    }
   ],
   "source": [
    "%%time\n",
    "bounds_params = {\n",
    "    'main_bounds': {\n",
    "        'lower': 0.9, 'upper': 1.1\n",
    "    },\n",
    "    'market_bounds': {\n",
    "        'lower': 0.85, 'upper': 1.15\n",
    "    }\n",
    "}\n",
    "N = 500\n",
    "seed = 5\n",
    "grid_size = 21\n",
    "\n",
    "data = generate_data(N, bounds_params, 21, seed)\n",
    "M_cur = sum(data['data_nlp']['Q'] * (data['data_nlp']['P'] - data['data_nlp']['C']))\n",
    "R_cur = sum(data['data_nlp']['Q'] * data['data_nlp']['P'])\n",
    "\n",
    "opt_params = {\n",
    "    'alpha': 0.0,\n",
    "    'con_mrg': M_cur\n",
    "}"
   ]
  },
  {
   "cell_type": "code",
   "execution_count": 62,
   "id": "84dc31d3-5ffe-42e8-b293-2545241f35e3",
   "metadata": {},
   "outputs": [
    {
     "data": {
      "text/plain": [
       "4"
      ]
     },
     "execution_count": 62,
     "metadata": {},
     "output_type": "execute_result"
    }
   ],
   "source": [
    "np.array([[9, 8], [9, 7]]).size"
   ]
  },
  {
   "cell_type": "code",
   "execution_count": 42,
   "id": "0b165532",
   "metadata": {
    "tags": []
   },
   "outputs": [
    {
     "name": "stdout",
     "output_type": "stream",
     "text": [
      "0.30666089057922363 ok\n",
      "CPU times: user 153 ms, sys: 13 ms, total: 166 ms\n",
      "Wall time: 307 ms\n"
     ]
    }
   ],
   "source": [
    "%%time\n",
    "try:\n",
    "    res_1 = pricing_optimization(data, PyomoNlpOptimizationModel, opt_params, 'ipopt')\n",
    "    print(res_1['t'], res_1['status'])\n",
    "except Exception as e:\n",
    "    print(e)"
   ]
  },
  {
   "cell_type": "code",
   "execution_count": 47,
   "id": "a9325856",
   "metadata": {
    "tags": []
   },
   "outputs": [
    {
     "name": "stdout",
     "output_type": "stream",
     "text": [
      "12.13930606842041 ok\n",
      "CPU times: user 1min 1s, sys: 842 ms, total: 1min 2s\n",
      "Wall time: 12.1 s\n"
     ]
    }
   ],
   "source": [
    "%%time\n",
    "try:\n",
    "    res_2 = pricing_optimization(data, ScipyNlpOptimizationModel, opt_params, 'slsqp')\n",
    "    print(res_2['t'], res_2['status'])\n",
    "except Exception as e:\n",
    "    print(e)"
   ]
  },
  {
   "cell_type": "code",
   "execution_count": null,
   "id": "a6b6deeb-55cb-4ec5-b688-95da363848d3",
   "metadata": {},
   "outputs": [],
   "source": []
  },
  {
   "cell_type": "code",
   "execution_count": 48,
   "id": "11b4d1d8",
   "metadata": {
    "tags": []
   },
   "outputs": [
    {
     "name": "stdout",
     "output_type": "stream",
     "text": [
      "120936.20702565346 111522.31767075682\n",
      "23077.948812746516 23077.948952296254\n"
     ]
    }
   ],
   "source": [
    "df = res_1['data'].copy()\n",
    "print(sum(df['P_opt'] * df['Q_opt']), R_cur)\n",
    "print(sum((df['P_opt'] - df['C']) * df['Q_opt']), M_cur)"
   ]
  },
  {
   "cell_type": "code",
   "execution_count": 49,
   "id": "d0411808",
   "metadata": {
    "tags": []
   },
   "outputs": [
    {
     "name": "stdout",
     "output_type": "stream",
     "text": [
      "120936.20109566531 111522.31767075682\n",
      "23077.94864376093 23077.948952296254\n"
     ]
    }
   ],
   "source": [
    "df = res_2['data'].copy()\n",
    "print(sum(df['P_opt'] * df['Q_opt']), R_cur)\n",
    "print(sum((df['P_opt'] - df['C']) * df['Q_opt']), M_cur)"
   ]
  },
  {
   "cell_type": "code",
   "execution_count": 50,
   "id": "8037de3b",
   "metadata": {
    "tags": []
   },
   "outputs": [
    {
     "data": {
      "image/png": "[encoded data removed]",
      "text/plain": [
       "<Figure size 640x480 with 1 Axes>"
      ]
     },
     "metadata": {},
     "output_type": "display_data"
    }
   ],
   "source": [
    "plt.scatter(res_1['data']['x_opt'], res_2['data']['x_opt'])\n",
    "plt.plot([0.9, 1.1], [0.9, 1.1])\n",
    "plt.grid()\n",
    "plt.show()"
   ]
  },
  {
   "cell_type": "markdown",
   "id": "bd1e12e3-5eab-4867-b7e3-05c86237f395",
   "metadata": {},
   "source": [
    "### PyOptSparse"
   ]
  },
  {
   "cell_type": "code",
   "execution_count": 454,
   "id": "2f328fca-1f79-43e5-94c2-75b63be1c94f",
   "metadata": {},
   "outputs": [],
   "source": [
    "import pyoptsparse as pyos"
   ]
  },
  {
   "cell_type": "code",
   "execution_count": 455,
   "id": "1d8c7d1d-1181-4358-ad05-0d88c9c2e661",
   "metadata": {},
   "outputs": [],
   "source": [
    "df = data['data_nlp'].copy().sort_values('plu_idx')\n",
    "plu_idx_in_line = data['plu_idx_in_line'].copy()\n",
    "plu_line_idx = df['plu_line_idx'].values\n",
    "plu_idx = df['plu_idx'].values\n",
    "P = df['P'].values\n",
    "Q = df['Q'].values\n",
    "C = df['C'].values\n",
    "E = df['E'].values\n",
    "x_lower = df['x_lower'].values\n",
    "x_upper = df['x_upper'].values\n",
    "\n",
    "bounds = np.array([[None] * N] * 2, dtype=float)\n",
    "\n",
    "for plu_line_idx_, plu_ in plu_idx_in_line.items():\n",
    "    bounds[0][plu_line_idx_] = x_lower[plu_[0]]\n",
    "    bounds[1][plu_line_idx_] = x_upper[plu_[0]]\n"
   ]
  },
  {
   "cell_type": "code",
   "execution_count": 456,
   "id": "e01753ab-b257-464b-b623-7859320526a2",
   "metadata": {},
   "outputs": [],
   "source": [
    "def objective(x):\n",
    "    x_ = x[plu_line_idx[plu_idx]]\n",
    "    f = -10. * sum(P * Q * x_ * np.exp(E * (x_ - 1.))) / R_cur\n",
    "    return f\n"
   ]
  },
  {
   "cell_type": "code",
   "execution_count": 457,
   "id": "138db7c0-a7e4-4f1a-b9e4-d0e27edeffef",
   "metadata": {},
   "outputs": [],
   "source": [
    "def con_mrg(x):\n",
    "    x_ = x[plu_line_idx[plu_idx]]\n",
    "    f = sum((P * x_ - C) * Q * np.exp(E * (x_ - 1.)))\n",
    "    return f\n"
   ]
  },
  {
   "cell_type": "code",
   "execution_count": 458,
   "id": "4ce0fe5f-df4b-46e0-8845-73d030b17e50",
   "metadata": {},
   "outputs": [],
   "source": [
    "def functions(xdict):\n",
    "    x = xdict['x']\n",
    "    \n",
    "    funcs = {}\n",
    "    \n",
    "    funcs['obj'] = objective(x)\n",
    "    \n",
    "    funcs['con_mrg'] = con_mrg(x)\n",
    "        \n",
    "    fails = False\n",
    "    \n",
    "    return funcs, fails\n",
    "\n"
   ]
  },
  {
   "cell_type": "code",
   "execution_count": 504,
   "id": "110397da-08c8-4ff5-b43b-8935f56a8e69",
   "metadata": {},
   "outputs": [
    {
     "name": "stdout",
     "output_type": "stream",
     "text": [
      "CPU times: user 1.77 ms, sys: 233 µs, total: 2 ms\n",
      "Wall time: 1.77 ms\n"
     ]
    }
   ],
   "source": [
    "%%time\n",
    "model = pyos.Optimization('', functions)\n",
    "\n",
    "k_init = 0.5\n",
    "model.addVarGroup('x', N, 'c', lower=bounds[0], upper=bounds[1], value=k_init * bounds[0] + (1-k_init) * bounds[1])\n",
    "\n",
    "model.addObj('obj')\n",
    "\n",
    "model.addCon('con_mrg', lower=1.0*M_cur, upper=None)\n"
   ]
  },
  {
   "cell_type": "code",
   "execution_count": 507,
   "id": "5e3dba4a-3a76-40e1-8281-c3d7ccae62c2",
   "metadata": {},
   "outputs": [
    {
     "name": "stdout",
     "output_type": "stream",
     "text": [
      "CPU times: user 256 µs, sys: 3.66 ms, total: 3.91 ms\n",
      "Wall time: 7.85 ms\n"
     ]
    }
   ],
   "source": [
    "%%time\n",
    "# opt_options = {\"IPRINT\": -1, 'MAXIT': 1000000, 'ACC': 1.0e-10}\n",
    "# opt_options = {'file_print_level': 0, 'print_level': 0, 'sb': 'no'}\n",
    "opt_options = {}\n",
    "\n",
    "opt = pyos.OPT('conmin', options=opt_options)"
   ]
  },
  {
   "cell_type": "code",
   "execution_count": 508,
   "id": "cd454a4f-30cb-405e-bdb3-df9d048a637f",
   "metadata": {},
   "outputs": [
    {
     "name": "stdout",
     "output_type": "stream",
     "text": [
      "CPU times: user 15.9 s, sys: 313 ms, total: 16.2 s\n",
      "Wall time: 16.7 s\n"
     ]
    }
   ],
   "source": [
    "%%time\n",
    "sol = opt(model, sens='FD')"
   ]
  },
  {
   "cell_type": "code",
   "execution_count": 509,
   "id": "548e44f6-072e-4aec-b9b6-1dfe3ee80dcc",
   "metadata": {},
   "outputs": [
    {
     "data": {
      "text/html": [
       "<div>\n",
       "<style scoped>\n",
       "    .dataframe tbody tr th:only-of-type {\n",
       "        vertical-align: middle;\n",
       "    }\n",
       "\n",
       "    .dataframe tbody tr th {\n",
       "        vertical-align: top;\n",
       "    }\n",
       "\n",
       "    .dataframe thead th {\n",
       "        text-align: right;\n",
       "    }\n",
       "</style>\n",
       "<table border=\"1\" class=\"dataframe\">\n",
       "  <thead>\n",
       "    <tr style=\"text-align: right;\">\n",
       "      <th></th>\n",
       "      <th>plu_line_idx</th>\n",
       "      <th>P</th>\n",
       "      <th>Q</th>\n",
       "      <th>E</th>\n",
       "      <th>PC</th>\n",
       "      <th>C</th>\n",
       "      <th>plu_idx</th>\n",
       "      <th>x_lower</th>\n",
       "      <th>x_upper</th>\n",
       "      <th>x_opt</th>\n",
       "      <th>Q_opt</th>\n",
       "      <th>P_opt</th>\n",
       "    </tr>\n",
       "  </thead>\n",
       "  <tbody>\n",
       "    <tr>\n",
       "      <th>0</th>\n",
       "      <td>0</td>\n",
       "      <td>65.99</td>\n",
       "      <td>3.660779</td>\n",
       "      <td>-4.316118</td>\n",
       "      <td>74.99</td>\n",
       "      <td>72.74</td>\n",
       "      <td>0</td>\n",
       "      <td>0.965927</td>\n",
       "      <td>1.100000</td>\n",
       "      <td>0.965927</td>\n",
       "      <td>4.240752</td>\n",
       "      <td>63.741500</td>\n",
       "    </tr>\n",
       "    <tr>\n",
       "      <th>1</th>\n",
       "      <td>1</td>\n",
       "      <td>161.99</td>\n",
       "      <td>1.137208</td>\n",
       "      <td>-2.657612</td>\n",
       "      <td>158.99</td>\n",
       "      <td>110.58</td>\n",
       "      <td>1</td>\n",
       "      <td>0.900000</td>\n",
       "      <td>1.100000</td>\n",
       "      <td>0.900000</td>\n",
       "      <td>1.483401</td>\n",
       "      <td>145.791000</td>\n",
       "    </tr>\n",
       "    <tr>\n",
       "      <th>2</th>\n",
       "      <td>1</td>\n",
       "      <td>161.99</td>\n",
       "      <td>1.137208</td>\n",
       "      <td>-0.947011</td>\n",
       "      <td>158.99</td>\n",
       "      <td>110.58</td>\n",
       "      <td>2</td>\n",
       "      <td>0.900000</td>\n",
       "      <td>1.100000</td>\n",
       "      <td>0.900000</td>\n",
       "      <td>1.250167</td>\n",
       "      <td>145.791000</td>\n",
       "    </tr>\n",
       "    <tr>\n",
       "      <th>3</th>\n",
       "      <td>2</td>\n",
       "      <td>80.99</td>\n",
       "      <td>3.269954</td>\n",
       "      <td>-0.023438</td>\n",
       "      <td>88.99</td>\n",
       "      <td>56.95</td>\n",
       "      <td>3</td>\n",
       "      <td>0.933961</td>\n",
       "      <td>1.100000</td>\n",
       "      <td>1.100000</td>\n",
       "      <td>3.262299</td>\n",
       "      <td>89.089000</td>\n",
       "    </tr>\n",
       "    <tr>\n",
       "      <th>4</th>\n",
       "      <td>2</td>\n",
       "      <td>80.99</td>\n",
       "      <td>3.269954</td>\n",
       "      <td>-0.018374</td>\n",
       "      <td>88.99</td>\n",
       "      <td>56.95</td>\n",
       "      <td>4</td>\n",
       "      <td>0.933961</td>\n",
       "      <td>1.100000</td>\n",
       "      <td>1.100000</td>\n",
       "      <td>3.263951</td>\n",
       "      <td>89.089000</td>\n",
       "    </tr>\n",
       "    <tr>\n",
       "      <th>...</th>\n",
       "      <td>...</td>\n",
       "      <td>...</td>\n",
       "      <td>...</td>\n",
       "      <td>...</td>\n",
       "      <td>...</td>\n",
       "      <td>...</td>\n",
       "      <td>...</td>\n",
       "      <td>...</td>\n",
       "      <td>...</td>\n",
       "      <td>...</td>\n",
       "      <td>...</td>\n",
       "      <td>...</td>\n",
       "    </tr>\n",
       "    <tr>\n",
       "      <th>660</th>\n",
       "      <td>496</td>\n",
       "      <td>111.99</td>\n",
       "      <td>2.175788</td>\n",
       "      <td>-2.113577</td>\n",
       "      <td>103.99</td>\n",
       "      <td>93.50</td>\n",
       "      <td>660</td>\n",
       "      <td>0.900000</td>\n",
       "      <td>1.067850</td>\n",
       "      <td>0.900000</td>\n",
       "      <td>2.687869</td>\n",
       "      <td>100.791000</td>\n",
       "    </tr>\n",
       "    <tr>\n",
       "      <th>661</th>\n",
       "      <td>496</td>\n",
       "      <td>111.99</td>\n",
       "      <td>2.175788</td>\n",
       "      <td>-1.094159</td>\n",
       "      <td>103.99</td>\n",
       "      <td>93.50</td>\n",
       "      <td>661</td>\n",
       "      <td>0.900000</td>\n",
       "      <td>1.067850</td>\n",
       "      <td>0.900000</td>\n",
       "      <td>2.427367</td>\n",
       "      <td>100.791000</td>\n",
       "    </tr>\n",
       "    <tr>\n",
       "      <th>662</th>\n",
       "      <td>497</td>\n",
       "      <td>70.99</td>\n",
       "      <td>4.032711</td>\n",
       "      <td>-0.401283</td>\n",
       "      <td>66.99</td>\n",
       "      <td>87.61</td>\n",
       "      <td>662</td>\n",
       "      <td>0.900000</td>\n",
       "      <td>1.085202</td>\n",
       "      <td>1.085202</td>\n",
       "      <td>3.897162</td>\n",
       "      <td>77.038500</td>\n",
       "    </tr>\n",
       "    <tr>\n",
       "      <th>663</th>\n",
       "      <td>498</td>\n",
       "      <td>131.99</td>\n",
       "      <td>0.478842</td>\n",
       "      <td>-5.098386</td>\n",
       "      <td>139.99</td>\n",
       "      <td>107.39</td>\n",
       "      <td>663</td>\n",
       "      <td>0.901519</td>\n",
       "      <td>1.100000</td>\n",
       "      <td>0.901519</td>\n",
       "      <td>0.791132</td>\n",
       "      <td>118.991500</td>\n",
       "    </tr>\n",
       "    <tr>\n",
       "      <th>664</th>\n",
       "      <td>499</td>\n",
       "      <td>103.99</td>\n",
       "      <td>0.429002</td>\n",
       "      <td>-0.873377</td>\n",
       "      <td>98.99</td>\n",
       "      <td>89.88</td>\n",
       "      <td>664</td>\n",
       "      <td>0.900000</td>\n",
       "      <td>1.094706</td>\n",
       "      <td>1.046008</td>\n",
       "      <td>0.412106</td>\n",
       "      <td>108.774326</td>\n",
       "    </tr>\n",
       "  </tbody>\n",
       "</table>\n",
       "<p>665 rows × 12 columns</p>\n",
       "</div>"
      ],
      "text/plain": [
       "     plu_line_idx       P         Q         E      PC       C  plu_idx  \\\n",
       "0               0   65.99  3.660779 -4.316118   74.99   72.74        0   \n",
       "1               1  161.99  1.137208 -2.657612  158.99  110.58        1   \n",
       "2               1  161.99  1.137208 -0.947011  158.99  110.58        2   \n",
       "3               2   80.99  3.269954 -0.023438   88.99   56.95        3   \n",
       "4               2   80.99  3.269954 -0.018374   88.99   56.95        4   \n",
       "..            ...     ...       ...       ...     ...     ...      ...   \n",
       "660           496  111.99  2.175788 -2.113577  103.99   93.50      660   \n",
       "661           496  111.99  2.175788 -1.094159  103.99   93.50      661   \n",
       "662           497   70.99  4.032711 -0.401283   66.99   87.61      662   \n",
       "663           498  131.99  0.478842 -5.098386  139.99  107.39      663   \n",
       "664           499  103.99  0.429002 -0.873377   98.99   89.88      664   \n",
       "\n",
       "      x_lower   x_upper     x_opt     Q_opt       P_opt  \n",
       "0    0.965927  1.100000  0.965927  4.240752   63.741500  \n",
       "1    0.900000  1.100000  0.900000  1.483401  145.791000  \n",
       "2    0.900000  1.100000  0.900000  1.250167  145.791000  \n",
       "3    0.933961  1.100000  1.100000  3.262299   89.089000  \n",
       "4    0.933961  1.100000  1.100000  3.263951   89.089000  \n",
       "..        ...       ...       ...       ...         ...  \n",
       "660  0.900000  1.067850  0.900000  2.687869  100.791000  \n",
       "661  0.900000  1.067850  0.900000  2.427367  100.791000  \n",
       "662  0.900000  1.085202  1.085202  3.897162   77.038500  \n",
       "663  0.901519  1.100000  0.901519  0.791132  118.991500  \n",
       "664  0.900000  1.094706  1.046008  0.412106  108.774326  \n",
       "\n",
       "[665 rows x 12 columns]"
      ]
     },
     "execution_count": 509,
     "metadata": {},
     "output_type": "execute_result"
    }
   ],
   "source": [
    "df['x_opt'] = sol.xStar['x'][plu_line_idx[plu_idx]]\n",
    "df"
   ]
  },
  {
   "cell_type": "code",
   "execution_count": 510,
   "id": "ada3cf83-7615-45ce-9364-40738cd6b246",
   "metadata": {},
   "outputs": [
    {
     "name": "stdout",
     "output_type": "stream",
     "text": [
      "120929.72934161084 111522.31767075682\n",
      "23077.947325725152 23077.948952296254\n"
     ]
    }
   ],
   "source": [
    "df['Q_opt'] = df['Q'] * np.exp(df['E'] * (df['x_opt'] - 1))\n",
    "df['P_opt'] = df['x_opt'] * df['P']\n",
    "print(sum(df['P_opt'] * df['Q_opt']), R_cur)\n",
    "print(sum((df['P_opt'] - df['C']) * df['Q_opt']), M_cur)\n"
   ]
  },
  {
   "cell_type": "code",
   "execution_count": 511,
   "id": "4310815e-e1b6-4732-a8d8-5c29d44894f1",
   "metadata": {},
   "outputs": [
    {
     "data": {
      "image/png": "[encoded data removed]",
      "text/plain": [
       "<Figure size 640x480 with 1 Axes>"
      ]
     },
     "metadata": {},
     "output_type": "display_data"
    }
   ],
   "source": [
    "plt.scatter(res_1['data']['x_opt'], df['x_opt'])\n",
    "plt.plot([0.9, 1.1], [0.9, 1.1])\n",
    "plt.grid()\n",
    "plt.show()"
   ]
  },
  {
   "cell_type": "code",
   "execution_count": 512,
   "id": "232538a2-7596-4f46-985f-55dc877f16ee",
   "metadata": {},
   "outputs": [
    {
     "data": {
      "text/plain": [
       "(1.0, 1.0)"
      ]
     },
     "execution_count": 512,
     "metadata": {},
     "output_type": "execute_result"
    }
   ],
   "source": [
    "(df['x_opt'] <= df['x_upper']).mean(), (df['x_opt'] >= df['x_lower']).mean()"
   ]
  },
  {
   "cell_type": "code",
   "execution_count": 513,
   "id": "4a5dcdee-81a5-4d4f-a257-dd366a2ba570",
   "metadata": {},
   "outputs": [
    {
     "data": {
      "text/plain": [
       "{}"
      ]
     },
     "execution_count": 513,
     "metadata": {},
     "output_type": "execute_result"
    }
   ],
   "source": [
    "sol.optInform"
   ]
  },
  {
   "cell_type": "markdown",
   "id": "807bac1c-7326-4443-a82e-46923ad115c4",
   "metadata": {},
   "source": [
    "### Тестовые примеры с pytest"
   ]
  },
  {
   "cell_type": "code",
   "execution_count": null,
   "id": "1587d6d2-a03d-45a3-ad8c-d65431eb4193",
   "metadata": {},
   "outputs": [],
   "source": []
  },
  {
   "cell_type": "code",
   "execution_count": null,
   "id": "065a73da-7ac5-4deb-8090-752f758143c8",
   "metadata": {},
   "outputs": [],
   "source": []
  },
  {
   "cell_type": "code",
   "execution_count": null,
   "id": "1b8b83b8-cb1a-4e93-8be9-7009f0430432",
   "metadata": {},
   "outputs": [],
   "source": []
  },
  {
   "cell_type": "code",
   "execution_count": null,
   "id": "d5228417-eb1e-4f55-89c0-b724a6b557e9",
   "metadata": {},
   "outputs": [],
   "source": []
  },
  {
   "cell_type": "code",
   "execution_count": null,
   "id": "4062dd6f-a04e-4bb5-aa01-fb628d72d3c0",
   "metadata": {},
   "outputs": [],
   "source": []
  },
  {
   "cell_type": "code",
   "execution_count": null,
   "id": "68f1cac8-4498-43c2-972a-10cfb0e2bd0e",
   "metadata": {},
   "outputs": [],
   "source": []
  }
 ],
 "metadata": {
  "kernelspec": {
   "display_name": "opt_conda_env",
   "language": "python",
   "name": "opt_conda_env"
  },
  "language_info": {
   "codemirror_mode": {
    "name": "ipython",
    "version": 3
   },
   "file_extension": ".py",
   "mimetype": "text/x-python",
   "name": "python",
   "nbconvert_exporter": "python",
   "pygments_lexer": "ipython3",
   "version": "3.8.16"
  }
 },
 "nbformat": 4,
 "nbformat_minor": 5
}
